{
  "nbformat": 4,
  "nbformat_minor": 0,
  "metadata": {
    "colab": {
      "name": "17.딥러닝을 이용한 자연어 처리.ipynb",
      "provenance": [],
      "collapsed_sections": [
        "uvvaJnywWqLP",
        "Sl-rSn2PW3G1",
        "l4yRqfS-XDvl"
      ]
    },
    "kernelspec": {
      "name": "python3",
      "display_name": "Python 3"
    },
    "language_info": {
      "name": "python"
    },
    "accelerator": "GPU"
  },
  "cells": [
    {
      "cell_type": "markdown",
      "source": [
        "# 1. 텍스트의 토큰화"
      ],
      "metadata": {
        "id": "uvvaJnywWqLP"
      }
    },
    {
      "cell_type": "code",
      "execution_count": 1,
      "metadata": {
        "colab": {
          "base_uri": "https://localhost:8080/"
        },
        "id": "d9RY6WohQV8p",
        "outputId": "0b1ae534-c6d6-47dc-e949-b0f5dd2d4d5a"
      },
      "outputs": [
        {
          "output_type": "stream",
          "name": "stdout",
          "text": [
            "['해보지', '않으면', '해낼', '수', '없다']\n"
          ]
        }
      ],
      "source": [
        "from tensorflow.keras.preprocessing.text import text_to_word_sequence\n",
        "\n",
        "text='해보지 않으면 해낼 수 없다.'\n",
        "result=text_to_word_sequence(text)\n",
        "print(result)"
      ]
    },
    {
      "cell_type": "code",
      "source": [
        "from tensorflow.keras.preprocessing.text import Tokenizer\n",
        "\n",
        "docs=['먼저 텍스트의 각 단어를 나누어 토큰화합니다.','텍스트의 단어를 토큰화해야 딥러닝에서 인식됩니다.','토큰화한 결과는 딥러닝에서 사용할 수 있습니다.',]\n",
        "\n",
        "token=Tokenizer()#토큰화 함수 지정\n",
        "token.fit_on_texts(docs)#토큰화 함수에 문장 적용\n",
        "\n",
        "print(token.word_counts)#단어의 빈도수를 계산한 결과를 출력\n",
        "\n",
        "print(token.document_count)"
      ],
      "metadata": {
        "colab": {
          "base_uri": "https://localhost:8080/"
        },
        "id": "ZCXuDD0OSxQC",
        "outputId": "2853a79c-5cd6-4ff0-ee76-e3bcf451c104"
      },
      "execution_count": 2,
      "outputs": [
        {
          "output_type": "stream",
          "name": "stdout",
          "text": [
            "OrderedDict([('먼저', 1), ('텍스트의', 2), ('각', 1), ('단어를', 2), ('나누어', 1), ('토큰화합니다', 1), ('토큰화해야', 1), ('딥러닝에서', 2), ('인식됩니다', 1), ('토큰화한', 1), ('결과는', 1), ('사용할', 1), ('수', 1), ('있습니다', 1)])\n",
            "3\n"
          ]
        }
      ]
    },
    {
      "cell_type": "code",
      "source": [
        "print(token.word_docs)\n",
        "print(token.word_index)"
      ],
      "metadata": {
        "colab": {
          "base_uri": "https://localhost:8080/"
        },
        "id": "CAClgF9tTxMN",
        "outputId": "889fdecc-6563-4949-b72b-da4ba20c4670"
      },
      "execution_count": 3,
      "outputs": [
        {
          "output_type": "stream",
          "name": "stdout",
          "text": [
            "defaultdict(<class 'int'>, {'나누어': 1, '각': 1, '토큰화합니다': 1, '단어를': 2, '텍스트의': 2, '먼저': 1, '토큰화해야': 1, '딥러닝에서': 2, '인식됩니다': 1, '토큰화한': 1, '사용할': 1, '결과는': 1, '수': 1, '있습니다': 1})\n",
            "{'텍스트의': 1, '단어를': 2, '딥러닝에서': 3, '먼저': 4, '각': 5, '나누어': 6, '토큰화합니다': 7, '토큰화해야': 8, '인식됩니다': 9, '토큰화한': 10, '결과는': 11, '사용할': 12, '수': 13, '있습니다': 14}\n"
          ]
        }
      ]
    },
    {
      "cell_type": "markdown",
      "source": [
        "## 주어진 문장을 단어로 토큰화 하기"
      ],
      "metadata": {
        "id": "DPBct6eVUW1W"
      }
    },
    {
      "cell_type": "code",
      "source": [
        "#텍스트 전처리 함수  text_to_word_sequence 호출\n",
        "from tensorflow.keras.preprocessing.text import text_to_word_sequence\n",
        "\n",
        "# 전처리 할 텍스트 정리\n",
        "text='해보지 않으면 해낼 수 없다.'\n",
        "\n",
        "#핵당 텍스트 토큰화\n",
        "result=text_to_word_sequence(text)\n",
        "print(\"\\n원문:\\n\", text)\n",
        "print(\"\\n토큰화:\\n\", result)\n",
        "\n",
        "#텍스트 전처리 함수 Tokenizer()호출\n",
        "from tensorflow.keras.preprocessing.text import Tokenizer\n",
        "\n",
        "#전처리하려는 세 개의 문장 정하기\n",
        "docs=['먼저 텍스트의 각 단어를 나누어 토큰화합니다.',\n",
        "      '텍스트의 단어를 토큰화해야 딥러닝에서 인식됩니다.',\n",
        "      '토큰화한 결과는 딥러닝에서 사용할 수 있습니다.',]\n",
        "\n",
        "#토큰화 함수를 이용해 전처리하는 과정\n",
        "token=Tokenizer()#토큰화 함수 지정\n",
        "token.fit_on_texts(docs)#토큰화 함수에 문장 적용\n",
        "\n",
        "#각 옵션에 맍춰 단어의 빈도 수를 계산한 결과 출력\n",
        "print(\"\\n단어 카운트:\\n\", token.word_counts)\n",
        "\n",
        "#출력된는 순서는 랜덤\n",
        "print(\"\\n문장 카운트:\\n\", token.document_count)\n",
        "print(\"\\n각 단어가 몇 개의 문장에 포함되어 있는가:\\n\", token.word_docs)\n",
        "print(\"\\n각 단어에 매겨진 인텍스 값:\\n\", token.word_index)"
      ],
      "metadata": {
        "colab": {
          "base_uri": "https://localhost:8080/"
        },
        "id": "4HyS5MAdUO5i",
        "outputId": "59b46a06-d194-4d5e-d51a-b876aa612b3b"
      },
      "execution_count": null,
      "outputs": [
        {
          "output_type": "stream",
          "name": "stdout",
          "text": [
            "\n",
            "원문:\n",
            " 해보지 않으면 해낼 수 없다.\n",
            "\n",
            "토큰화:\n",
            " ['해보지', '않으면', '해낼', '수', '없다']\n",
            "\n",
            "단어 카운트:\n",
            " OrderedDict([('먼저', 1), ('텍스트의', 2), ('각', 1), ('단어를', 2), ('나누어', 1), ('토큰화합니다', 1), ('토큰화해야', 1), ('딥러닝에서', 2), ('인식됩니다', 1), ('토큰화한', 1), ('결과는', 1), ('사용할', 1), ('수', 1), ('있습니다', 1)])\n",
            "\n",
            "문장 카운트:\n",
            " 3\n",
            "\n",
            "각 단어가 몇 개의 문장에 포함되어 있는가:\n",
            " defaultdict(<class 'int'>, {'나누어': 1, '텍스트의': 2, '먼저': 1, '단어를': 2, '토큰화합니다': 1, '각': 1, '딥러닝에서': 2, '토큰화해야': 1, '인식됩니다': 1, '있습니다': 1, '결과는': 1, '토큰화한': 1, '수': 1, '사용할': 1})\n",
            "\n",
            "각 단어에 매겨진 인텍스 값:\n",
            " {'텍스트의': 1, '단어를': 2, '딥러닝에서': 3, '먼저': 4, '각': 5, '나누어': 6, '토큰화합니다': 7, '토큰화해야': 8, '인식됩니다': 9, '토큰화한': 10, '결과는': 11, '사용할': 12, '수': 13, '있습니다': 14}\n"
          ]
        }
      ]
    },
    {
      "cell_type": "markdown",
      "source": [
        "# 2. 단어의 원-핫 인코딩"
      ],
      "metadata": {
        "id": "Sl-rSn2PW3G1"
      }
    },
    {
      "cell_type": "code",
      "source": [
        "text = ['오랫동안 꿈꾸는 이는 그 꿈을 닮아간다']\n",
        "\n",
        "token = Tokenizer()\n",
        "token.fit_on_texts(text)\n",
        "\n",
        "print(token.word_index)"
      ],
      "metadata": {
        "colab": {
          "base_uri": "https://localhost:8080/"
        },
        "id": "OBx1VPTmA2Td",
        "outputId": "b8d21b6b-777b-488c-a5f6-8474c2815b91"
      },
      "execution_count": 4,
      "outputs": [
        {
          "output_type": "stream",
          "name": "stdout",
          "text": [
            "{'오랫동안': 1, '꿈꾸는': 2, '이는': 3, '그': 4, '꿈을': 5, '닮아간다': 6}\n"
          ]
        }
      ]
    },
    {
      "cell_type": "code",
      "source": [
        "x = token.texts_to_sequences(text) # 각 토큰의 인덱스\n",
        "print(x)"
      ],
      "metadata": {
        "colab": {
          "base_uri": "https://localhost:8080/"
        },
        "id": "gOuItip4A5dX",
        "outputId": "19913521-2994-45d6-fe6c-9d92fa32096e"
      },
      "execution_count": 5,
      "outputs": [
        {
          "output_type": "stream",
          "name": "stdout",
          "text": [
            "[[1, 2, 3, 4, 5, 6]]\n"
          ]
        }
      ]
    },
    {
      "cell_type": "code",
      "source": [
        "from tensorflow.keras.utils import to_categorical\n",
        "\n",
        "word_size = len(token.word_index)+1 # 각 배열 가장 앞에 0이 추가되므로 +1(파이썬의 인덱스는 0부터 시작하지만, 현재 토큰은 1부터 시작이기 때문)\n",
        "x = to_categorical(x, # 원핫인코딩을 진행할 데이터 \n",
        "                   num_classes=word_size) # 클래스의 개수\n",
        "\n",
        "print(x)"
      ],
      "metadata": {
        "colab": {
          "base_uri": "https://localhost:8080/"
        },
        "id": "-OsjkDQaA8W6",
        "outputId": "efe34d04-a375-43c6-8a86-1c6d738912b8"
      },
      "execution_count": 6,
      "outputs": [
        {
          "output_type": "stream",
          "name": "stdout",
          "text": [
            "[[[0. 1. 0. 0. 0. 0. 0.]\n",
            "  [0. 0. 1. 0. 0. 0. 0.]\n",
            "  [0. 0. 0. 1. 0. 0. 0.]\n",
            "  [0. 0. 0. 0. 1. 0. 0.]\n",
            "  [0. 0. 0. 0. 0. 1. 0.]\n",
            "  [0. 0. 0. 0. 0. 0. 1.]]]\n"
          ]
        }
      ]
    },
    {
      "cell_type": "markdown",
      "source": [
        "# 3.단어 임베딩"
      ],
      "metadata": {
        "id": "l4yRqfS-XDvl"
      }
    },
    {
      "cell_type": "code",
      "source": [
        "# 임베딩\n",
        "# 단순한 원핫 인코딩은 결과가 sparse한 형태가 됨\n",
        "# 이를 해결하기 위해 단어의 의미를 고려하여 좀 더 조밀한 차원에 단어를 벡터로 표현하는 것\n",
        "\n",
        "# 임베딩에 입력될 단어 수 지정\n",
        "word_size = len(token.word_index) +1 # 파이썬의 인덱스는 0부터 시작"
      ],
      "metadata": {
        "id": "ClX_QFFLBNZC"
      },
      "execution_count": 7,
      "outputs": []
    },
    {
      "cell_type": "markdown",
      "source": [
        "# 4. 텍스트를 읽고 긍정, 부정 예측하기"
      ],
      "metadata": {
        "id": "sTAaq5Q9XH6Z"
      }
    },
    {
      "cell_type": "markdown",
      "source": [
        "## 영화 리부가 긍정적인지 부정적인지 예측하기"
      ],
      "metadata": {
        "id": "vjvSmE-EXS2N"
      }
    },
    {
      "cell_type": "code",
      "source": [
        "import numpy\n",
        "import tensorflow as tf\n",
        "from numpy import array\n",
        "from tensorflow.keras.preprocessing.text import Tokenizer\n",
        "from tensorflow.keras.preprocessing.sequence import pad_sequences\n",
        "from tensorflow.keras.models import Sequential\n",
        "from tensorflow.keras.layers import Dense, Flatten, Embedding\n",
        "\n",
        "#텍스트 리뷰 자료 지정\n",
        "docs=['너무 재밌네요','최고예요', '참 잘 만든 영화예요','추천하고 싶은 영화입니다.','한번 더 보고 싶네요.','글쎄요','별로예요','생각보다 지루하네요','연기가 어색해요','재미없어요']\n",
        "\n",
        "#긍정 리뷰는 1 부정 리뷰는 0으로 클래스 지정\n",
        "classes=array([1,1,1,1,1,0,0,0,0,0])\n",
        "\n",
        "# 토큰화 \n",
        "token = Tokenizer()\n",
        "token.fit_on_texts(docs)\n",
        "print(token.word_index)\n",
        "x = token.texts_to_sequences(docs)\n",
        "print(\"\\n리뷰 텍스트, 토큰화 결과:\\n\",  x)\n",
        "\n",
        "# 패딩, 서로 다른 길이의 데이터를 4로 맞추어 줍니다.\n",
        "padded_x = pad_sequences(x, 4)  \n",
        "print(\"\\n패딩 결과:\\n\", padded_x)\n",
        " \n",
        "#딥러닝 모델\n",
        "print(\"\\n딥러닝 모델 시작:\")\n",
        "\n",
        "#임베딩에 입력될 단어의 수를 지정합니다.\n",
        "word_size = len(token.word_index) +1\n",
        " \n",
        "#단어 임베딩을 포함하여 딥러닝 모델을 만들고 결과를 출력합니다.\n",
        "model = Sequential()\n",
        "model.add(Embedding(word_size, 8, input_length=4))\n",
        "model.add(Flatten())\n",
        "model.add(Dense(1, activation='sigmoid'))\n",
        "model.compile(optimizer='adam', loss='binary_crossentropy', metrics=['accuracy'])\n",
        "model.fit(padded_x, classes, epochs=20)\n",
        "print(\"\\n Accuracy: %.4f\" % (model.evaluate(padded_x, classes)[1]))"
      ],
      "metadata": {
        "colab": {
          "base_uri": "https://localhost:8080/"
        },
        "id": "Xj1ehHc7XRQX",
        "outputId": "e4616fae-fc31-46bb-b6f7-743086767b3b"
      },
      "execution_count": 8,
      "outputs": [
        {
          "output_type": "stream",
          "name": "stdout",
          "text": [
            "{'너무': 1, '재밌네요': 2, '최고예요': 3, '참': 4, '잘': 5, '만든': 6, '영화예요': 7, '추천하고': 8, '싶은': 9, '영화입니다': 10, '한번': 11, '더': 12, '보고': 13, '싶네요': 14, '글쎄요': 15, '별로예요': 16, '생각보다': 17, '지루하네요': 18, '연기가': 19, '어색해요': 20, '재미없어요': 21}\n",
            "\n",
            "리뷰 텍스트, 토큰화 결과:\n",
            " [[1, 2], [3], [4, 5, 6, 7], [8, 9, 10], [11, 12, 13, 14], [15], [16], [17, 18], [19, 20], [21]]\n",
            "\n",
            "패딩 결과:\n",
            " [[ 0  0  1  2]\n",
            " [ 0  0  0  3]\n",
            " [ 4  5  6  7]\n",
            " [ 0  8  9 10]\n",
            " [11 12 13 14]\n",
            " [ 0  0  0 15]\n",
            " [ 0  0  0 16]\n",
            " [ 0  0 17 18]\n",
            " [ 0  0 19 20]\n",
            " [ 0  0  0 21]]\n",
            "\n",
            "딥러닝 모델 시작:\n",
            "Epoch 1/20\n",
            "1/1 [==============================] - 3s 3s/step - loss: 0.6942 - accuracy: 0.5000\n",
            "Epoch 2/20\n",
            "1/1 [==============================] - 0s 8ms/step - loss: 0.6920 - accuracy: 0.5000\n",
            "Epoch 3/20\n",
            "1/1 [==============================] - 0s 11ms/step - loss: 0.6898 - accuracy: 0.5000\n",
            "Epoch 4/20\n",
            "1/1 [==============================] - 0s 7ms/step - loss: 0.6876 - accuracy: 0.6000\n",
            "Epoch 5/20\n",
            "1/1 [==============================] - 0s 9ms/step - loss: 0.6855 - accuracy: 0.7000\n",
            "Epoch 6/20\n",
            "1/1 [==============================] - 0s 7ms/step - loss: 0.6833 - accuracy: 0.7000\n",
            "Epoch 7/20\n",
            "1/1 [==============================] - 0s 9ms/step - loss: 0.6811 - accuracy: 0.7000\n",
            "Epoch 8/20\n",
            "1/1 [==============================] - 0s 8ms/step - loss: 0.6789 - accuracy: 0.9000\n",
            "Epoch 9/20\n",
            "1/1 [==============================] - 0s 7ms/step - loss: 0.6768 - accuracy: 0.9000\n",
            "Epoch 10/20\n",
            "1/1 [==============================] - 0s 8ms/step - loss: 0.6746 - accuracy: 0.9000\n",
            "Epoch 11/20\n",
            "1/1 [==============================] - 0s 10ms/step - loss: 0.6724 - accuracy: 0.9000\n",
            "Epoch 12/20\n",
            "1/1 [==============================] - 0s 8ms/step - loss: 0.6703 - accuracy: 0.9000\n",
            "Epoch 13/20\n",
            "1/1 [==============================] - 0s 7ms/step - loss: 0.6681 - accuracy: 0.9000\n",
            "Epoch 14/20\n",
            "1/1 [==============================] - 0s 7ms/step - loss: 0.6659 - accuracy: 0.9000\n",
            "Epoch 15/20\n",
            "1/1 [==============================] - 0s 7ms/step - loss: 0.6637 - accuracy: 0.9000\n",
            "Epoch 16/20\n",
            "1/1 [==============================] - 0s 10ms/step - loss: 0.6615 - accuracy: 0.9000\n",
            "Epoch 17/20\n",
            "1/1 [==============================] - 0s 8ms/step - loss: 0.6593 - accuracy: 0.9000\n",
            "Epoch 18/20\n",
            "1/1 [==============================] - 0s 8ms/step - loss: 0.6571 - accuracy: 0.9000\n",
            "Epoch 19/20\n",
            "1/1 [==============================] - 0s 9ms/step - loss: 0.6548 - accuracy: 0.9000\n",
            "Epoch 20/20\n",
            "1/1 [==============================] - 0s 8ms/step - loss: 0.6526 - accuracy: 0.9000\n",
            "1/1 [==============================] - 0s 122ms/step - loss: 0.6503 - accuracy: 0.9000\n",
            "\n",
            " Accuracy: 0.9000\n"
          ]
        }
      ]
    }
  ]
}