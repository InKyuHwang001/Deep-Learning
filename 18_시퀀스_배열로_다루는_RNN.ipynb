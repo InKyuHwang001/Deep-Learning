{
  "nbformat": 4,
  "nbformat_minor": 0,
  "metadata": {
    "colab": {
      "name": "18.시퀀스 배열로 다루는 RNN.ipynb",
      "provenance": [],
      "collapsed_sections": []
    },
    "kernelspec": {
      "name": "python3",
      "display_name": "Python 3"
    },
    "language_info": {
      "name": "python"
    }
  },
  "cells": [
    {
      "cell_type": "code",
      "execution_count": 1,
      "metadata": {
        "colab": {
          "base_uri": "https://localhost:8080/"
        },
        "id": "uM2qV9Bs_CSr",
        "outputId": "6ca11281-9cd6-4dec-d932-5b1ed81c7660"
      },
      "outputs": [
        {
          "output_type": "stream",
          "name": "stdout",
          "text": [
            "Downloading data from https://storage.googleapis.com/tensorflow/tf-keras-datasets/reuters.npz\n",
            "2113536/2110848 [==============================] - 0s 0us/step\n",
            "2121728/2110848 [==============================] - 0s 0us/step\n",
            "46 카테고리\n",
            "8982 학습용 뉴스 기사\n",
            "2246 테스트용 뉴스 기사\n",
            "[1, 2, 2, 8, 43, 10, 447, 5, 25, 207, 270, 5, 2, 111, 16, 369, 186, 90, 67, 7, 89, 5, 19, 102, 6, 19, 124, 15, 90, 67, 84, 22, 482, 26, 7, 48, 4, 49, 8, 864, 39, 209, 154, 6, 151, 6, 83, 11, 15, 22, 155, 11, 15, 7, 48, 9, 2, 2, 504, 6, 258, 6, 272, 11, 15, 22, 134, 44, 11, 15, 16, 8, 197, 2, 90, 67, 52, 29, 209, 30, 32, 132, 6, 109, 15, 17, 12]\n",
            "100\n"
          ]
        }
      ],
      "source": [
        "# 라이브러리 및 모듈 호출\n",
        "import numpy as np\n",
        "import tensorflow as tf\n",
        "import matplotlib.pyplot as plt\n",
        "from keras.datasets import reuters\n",
        "from keras.models import Sequential\n",
        "from keras.layers import Dense, LSTM, Embedding\n",
        "from keras.preprocessing import sequence\n",
        "from keras.utils import np_utils\n",
        "\n",
        "# 시드고정\n",
        "seed=42\n",
        "np.random.seed(seed)\n",
        "tf.random.set_seed(seed)\n",
        "\n",
        "# 데이터 불러오기\n",
        "(X_train,Y_train),(X_test,Y_test) = reuters.load_data(num_words=1000, # 빈도수가 1~1000순위에 해당하는 단어만 가져옴\n",
        "                                                      test_split=0.2)\n",
        "# 데이터 확인\n",
        "category = np.max(Y_train) + 1\n",
        "print(category, '카테고리')\n",
        "print(len(X_train), '학습용 뉴스 기사')\n",
        "print(len(X_test), '테스트용 뉴스 기사')\n",
        "print(X_train[0])\n",
        "\n",
        "# 데이터 전처리\n",
        "maxlen = 100\n",
        "X_train = sequence.pad_sequences(X_train, maxlen=maxlen) # 각 기사를 단어100개로 패딩\n",
        "X_test = sequence.pad_sequences(X_test, maxlen=maxlen)\n",
        "Y_train = np_utils.to_categorical(Y_train) # 각 카테고리를 원핫인코딩\n",
        "Y_test = np_utils.to_categorical(Y_test)\n",
        "\n",
        "# 왜 패딩을 100개로 했는지 확인해봄\n",
        "b=0\n",
        "for i in range(len(X_train)):\n",
        "    if len(X_train[i]) > b :\n",
        "        b=len(X_train[i])\n",
        "print(b)   "
      ]
    },
    {
      "cell_type": "code",
      "source": [
        "# 모델 생성\n",
        "model = Sequential()\n",
        "model.add(Embedding(1000,maxlen)) # 처음 불러온 단어의 총 개수(빈도수 1000위까지 가져왔음), 패딩 결과의 수\n",
        "model.add(LSTM(maxlen, activation='tanh'))\n",
        "model.add(Dense(category, activation='softmax'))\n",
        "\n",
        "# 모델 컴파일\n",
        "model.compile(loss='categorical_crossentropy', optimizer='adam', metrics=['accuracy'])\n",
        "\n",
        "# 모델 학습\n",
        "history = model.fit(X_train, Y_train, batch_size=100, epochs=20, validation_data=(X_test, Y_test))\n",
        "\n",
        "# 결과 출력\n",
        "print(f'Test Accuracy: {model.evaluate(X_test, Y_test)[1]:.4f}')"
      ],
      "metadata": {
        "colab": {
          "base_uri": "https://localhost:8080/"
        },
        "id": "pzbkqF4OCkrb",
        "outputId": "eef9259c-876e-41e4-b4f8-c1b98d942329"
      },
      "execution_count": 2,
      "outputs": [
        {
          "output_type": "stream",
          "name": "stdout",
          "text": [
            "Epoch 1/20\n",
            "90/90 [==============================] - 31s 314ms/step - loss: 2.5334 - accuracy: 0.3889 - val_loss: 2.0805 - val_accuracy: 0.4987\n",
            "Epoch 2/20\n",
            "90/90 [==============================] - 26s 291ms/step - loss: 2.0249 - accuracy: 0.5032 - val_loss: 1.9732 - val_accuracy: 0.5249\n",
            "Epoch 3/20\n",
            "90/90 [==============================] - 22s 249ms/step - loss: 1.8831 - accuracy: 0.5357 - val_loss: 1.8136 - val_accuracy: 0.5570\n",
            "Epoch 4/20\n",
            "90/90 [==============================] - 22s 244ms/step - loss: 1.6979 - accuracy: 0.5671 - val_loss: 1.6733 - val_accuracy: 0.5797\n",
            "Epoch 5/20\n",
            "90/90 [==============================] - 23s 253ms/step - loss: 1.6092 - accuracy: 0.5882 - val_loss: 1.6362 - val_accuracy: 0.5922\n",
            "Epoch 6/20\n",
            "90/90 [==============================] - 23s 252ms/step - loss: 1.5148 - accuracy: 0.6158 - val_loss: 1.5621 - val_accuracy: 0.6046\n",
            "Epoch 7/20\n",
            "90/90 [==============================] - 22s 243ms/step - loss: 1.4187 - accuracy: 0.6329 - val_loss: 1.5215 - val_accuracy: 0.6207\n",
            "Epoch 8/20\n",
            "90/90 [==============================] - 22s 243ms/step - loss: 1.3611 - accuracy: 0.6538 - val_loss: 1.4494 - val_accuracy: 0.6487\n",
            "Epoch 9/20\n",
            "90/90 [==============================] - 22s 245ms/step - loss: 1.2978 - accuracy: 0.6722 - val_loss: 1.4011 - val_accuracy: 0.6585\n",
            "Epoch 10/20\n",
            "90/90 [==============================] - 22s 244ms/step - loss: 1.2142 - accuracy: 0.6923 - val_loss: 1.4002 - val_accuracy: 0.6541\n",
            "Epoch 11/20\n",
            "90/90 [==============================] - 22s 244ms/step - loss: 1.1495 - accuracy: 0.7111 - val_loss: 1.3112 - val_accuracy: 0.6776\n",
            "Epoch 12/20\n",
            "90/90 [==============================] - 22s 246ms/step - loss: 1.0811 - accuracy: 0.7263 - val_loss: 1.2909 - val_accuracy: 0.6839\n",
            "Epoch 13/20\n",
            "90/90 [==============================] - 22s 245ms/step - loss: 1.0278 - accuracy: 0.7411 - val_loss: 1.2726 - val_accuracy: 0.6861\n",
            "Epoch 14/20\n",
            "90/90 [==============================] - 22s 246ms/step - loss: 0.9835 - accuracy: 0.7528 - val_loss: 1.2549 - val_accuracy: 0.7004\n",
            "Epoch 15/20\n",
            "90/90 [==============================] - 22s 246ms/step - loss: 0.9539 - accuracy: 0.7629 - val_loss: 1.2683 - val_accuracy: 0.6937\n",
            "Epoch 16/20\n",
            "90/90 [==============================] - 22s 247ms/step - loss: 0.9009 - accuracy: 0.7725 - val_loss: 1.2608 - val_accuracy: 0.6972\n",
            "Epoch 17/20\n",
            "90/90 [==============================] - 22s 249ms/step - loss: 0.8649 - accuracy: 0.7861 - val_loss: 1.2628 - val_accuracy: 0.6981\n",
            "Epoch 18/20\n",
            "90/90 [==============================] - 22s 246ms/step - loss: 0.8278 - accuracy: 0.7916 - val_loss: 1.2436 - val_accuracy: 0.7044\n",
            "Epoch 19/20\n",
            "90/90 [==============================] - 22s 244ms/step - loss: 0.8048 - accuracy: 0.7971 - val_loss: 1.2978 - val_accuracy: 0.6999\n",
            "Epoch 20/20\n",
            "90/90 [==============================] - 22s 245ms/step - loss: 0.7772 - accuracy: 0.8071 - val_loss: 1.2536 - val_accuracy: 0.7048\n",
            "71/71 [==============================] - 2s 24ms/step - loss: 1.2536 - accuracy: 0.7048\n",
            "Test Accuracy: 0.7048\n"
          ]
        }
      ]
    },
    {
      "cell_type": "code",
      "source": [
        "# 시각화를 통해 loss 확인하기\n",
        "y_vloss = history.history['val_loss']\n",
        "y_loss = history.history['loss']\n",
        "\n",
        "x_len = np.arange(len(y_loss))\n",
        "plt.plot(x_len, y_vloss, marker='.', c=\"red\", label='Testset_loss')\n",
        "plt.plot(x_len, y_loss, marker='.', c=\"blue\", label='Trainset_loss')\n",
        "\n",
        "plt.legend(loc=0)\n",
        "plt.grid()\n",
        "plt.xlabel('epoch')\n",
        "plt.ylabel('loss')\n",
        "plt.show()"
      ],
      "metadata": {
        "colab": {
          "base_uri": "https://localhost:8080/",
          "height": 279
        },
        "id": "I4KmZqCgCpmc",
        "outputId": "2f126983-37e7-4539-ef78-d9c6e79d1a00"
      },
      "execution_count": 3,
      "outputs": [
        {
          "output_type": "display_data",
          "data": {
            "text/plain": [
              "<Figure size 432x288 with 1 Axes>"
            ],
            "image/png": "[encoded data removed]"
          },
          "metadata": {
            "needs_background": "light"
          }
        }
      ]
    }
  ]
}