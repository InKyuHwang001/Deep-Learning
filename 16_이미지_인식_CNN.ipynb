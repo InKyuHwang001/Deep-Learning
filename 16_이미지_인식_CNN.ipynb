{
  "nbformat": 4,
  "nbformat_minor": 0,
  "metadata": {
    "colab": {
      "name": "16.이미지 인식 CNN.ipynb",
      "provenance": [],
      "collapsed_sections": [
        "eZNNI7MM8-I5",
        "_1LppZYw83cX",
        "OZTjUTQX9Wa_"
      ]
    },
    "kernelspec": {
      "name": "python3",
      "display_name": "Python 3"
    },
    "language_info": {
      "name": "python"
    }
  },
  "cells": [
    {
      "cell_type": "markdown",
      "source": [
        "# 1. 데이터 살펴보기"
      ],
      "metadata": {
        "id": "eZNNI7MM8-I5"
      }
    },
    {
      "cell_type": "code",
      "source": [
        "# 라이브러리 및 모듈 호출\n",
        "from keras.datasets import mnist # 데이터셋\n",
        "from keras.utils import np_utils # 원핫인코딩\n",
        "from keras.models import Sequential\n",
        "from keras.layers import Dense, Dropout, Flatten, Conv2D, MaxPooling2D\n",
        "from keras.callbacks import ModelCheckpoint,EarlyStopping\n",
        "\n",
        "import pandas as pd\n",
        "import numpy as np\n",
        "import os\n",
        "import sys\n",
        "import tensorflow as tf\n",
        "import matplotlib.pyplot as plt"
      ],
      "metadata": {
        "id": "zH9uA4VVz1J3"
      },
      "execution_count": 1,
      "outputs": []
    },
    {
      "cell_type": "code",
      "source": [
        "# 시드값 고정\n",
        "seed = 42\n",
        "np.random.seed(seed)\n",
        "tf.random.set_seed(seed)\n",
        "\n",
        "# 데이터 불러오기\n",
        "(X_train, Y_class_train),(X_test,Y_class_test) = mnist.load_data()\n",
        "print(f'학습 데이터 이미지 개수 : {X_train.shape[0]}개')\n",
        "print(f'테스트 데이터 이미지 개수 : {X_test.shape[0]}개')\n",
        "\n",
        "print(X_train.shape) # 층,행,열 > 이미지 개수, 세로픽셀수,가로픽셀수"
      ],
      "metadata": {
        "colab": {
          "base_uri": "https://localhost:8080/"
        },
        "id": "CB7OkKYIz8ml",
        "outputId": "1c4c0695-5e0f-47fc-9192-9cfcc5a35a24"
      },
      "execution_count": 2,
      "outputs": [
        {
          "output_type": "stream",
          "name": "stdout",
          "text": [
            "Downloading data from https://storage.googleapis.com/tensorflow/tf-keras-datasets/mnist.npz\n",
            "11493376/11490434 [==============================] - 0s 0us/step\n",
            "11501568/11490434 [==============================] - 0s 0us/step\n",
            "학습 데이터 이미지 개수 : 60000개\n",
            "테스트 데이터 이미지 개수 : 10000개\n",
            "(60000, 28, 28)\n"
          ]
        }
      ]
    },
    {
      "cell_type": "code",
      "source": [
        "# 이미지로 확인\n",
        "plt.imshow(X_train[0], cmap='Greys') # 흑백이미지 출력\n",
        "plt.show()"
      ],
      "metadata": {
        "colab": {
          "base_uri": "https://localhost:8080/",
          "height": 265
        },
        "id": "xur8mDyF8UZx",
        "outputId": "7f187e88-1a78-4329-f83c-5b7425698bf5"
      },
      "execution_count": 3,
      "outputs": [
        {
          "output_type": "display_data",
          "data": {
            "text/plain": [
              "<Figure size 432x288 with 1 Axes>"
            ],
            "image/png": "[encoded data removed]"
          },
          "metadata": {
            "needs_background": "light"
          }
        }
      ]
    },
    {
      "cell_type": "code",
      "source": [
        "# 데이터 값 자체로 확인\n",
        "for x in X_train[0]:\n",
        "    for i in x:\n",
        "        sys.stdout.write('%d   ' % i)\n",
        "    sys.stdout.write('\\n')"
      ],
      "metadata": {
        "colab": {
          "base_uri": "https://localhost:8080/"
        },
        "id": "9ogkFyz18Xa2",
        "outputId": "c80a1296-5541-4135-d34c-cd762f21c21e"
      },
      "execution_count": 4,
      "outputs": [
        {
          "output_type": "stream",
          "name": "stdout",
          "text": [
            "0   0   0   0   0   0   0   0   0   0   0   0   0   0   0   0   0   0   0   0   0   0   0   0   0   0   0   0   \n",
            "0   0   0   0   0   0   0   0   0   0   0   0   0   0   0   0   0   0   0   0   0   0   0   0   0   0   0   0   \n",
            "0   0   0   0   0   0   0   0   0   0   0   0   0   0   0   0   0   0   0   0   0   0   0   0   0   0   0   0   \n",
            "0   0   0   0   0   0   0   0   0   0   0   0   0   0   0   0   0   0   0   0   0   0   0   0   0   0   0   0   \n",
            "0   0   0   0   0   0   0   0   0   0   0   0   0   0   0   0   0   0   0   0   0   0   0   0   0   0   0   0   \n",
            "0   0   0   0   0   0   0   0   0   0   0   0   3   18   18   18   126   136   175   26   166   255   247   127   0   0   0   0   \n",
            "0   0   0   0   0   0   0   0   30   36   94   154   170   253   253   253   253   253   225   172   253   242   195   64   0   0   0   0   \n",
            "0   0   0   0   0   0   0   49   238   253   253   253   253   253   253   253   253   251   93   82   82   56   39   0   0   0   0   0   \n",
            "0   0   0   0   0   0   0   18   219   253   253   253   253   253   198   182   247   241   0   0   0   0   0   0   0   0   0   0   \n",
            "0   0   0   0   0   0   0   0   80   156   107   253   253   205   11   0   43   154   0   0   0   0   0   0   0   0   0   0   \n",
            "0   0   0   0   0   0   0   0   0   14   1   154   253   90   0   0   0   0   0   0   0   0   0   0   0   0   0   0   \n",
            "0   0   0   0   0   0   0   0   0   0   0   139   253   190   2   0   0   0   0   0   0   0   0   0   0   0   0   0   \n",
            "0   0   0   0   0   0   0   0   0   0   0   11   190   253   70   0   0   0   0   0   0   0   0   0   0   0   0   0   \n",
            "0   0   0   0   0   0   0   0   0   0   0   0   35   241   225   160   108   1   0   0   0   0   0   0   0   0   0   0   \n",
            "0   0   0   0   0   0   0   0   0   0   0   0   0   81   240   253   253   119   25   0   0   0   0   0   0   0   0   0   \n",
            "0   0   0   0   0   0   0   0   0   0   0   0   0   0   45   186   253   253   150   27   0   0   0   0   0   0   0   0   \n",
            "0   0   0   0   0   0   0   0   0   0   0   0   0   0   0   16   93   252   253   187   0   0   0   0   0   0   0   0   \n",
            "0   0   0   0   0   0   0   0   0   0   0   0   0   0   0   0   0   249   253   249   64   0   0   0   0   0   0   0   \n",
            "0   0   0   0   0   0   0   0   0   0   0   0   0   0   46   130   183   253   253   207   2   0   0   0   0   0   0   0   \n",
            "0   0   0   0   0   0   0   0   0   0   0   0   39   148   229   253   253   253   250   182   0   0   0   0   0   0   0   0   \n",
            "0   0   0   0   0   0   0   0   0   0   24   114   221   253   253   253   253   201   78   0   0   0   0   0   0   0   0   0   \n",
            "0   0   0   0   0   0   0   0   23   66   213   253   253   253   253   198   81   2   0   0   0   0   0   0   0   0   0   0   \n",
            "0   0   0   0   0   0   18   171   219   253   253   253   253   195   80   9   0   0   0   0   0   0   0   0   0   0   0   0   \n",
            "0   0   0   0   55   172   226   253   253   253   253   244   133   11   0   0   0   0   0   0   0   0   0   0   0   0   0   0   \n",
            "0   0   0   0   136   253   253   253   212   135   132   16   0   0   0   0   0   0   0   0   0   0   0   0   0   0   0   0   \n",
            "0   0   0   0   0   0   0   0   0   0   0   0   0   0   0   0   0   0   0   0   0   0   0   0   0   0   0   0   \n",
            "0   0   0   0   0   0   0   0   0   0   0   0   0   0   0   0   0   0   0   0   0   0   0   0   0   0   0   0   \n",
            "0   0   0   0   0   0   0   0   0   0   0   0   0   0   0   0   0   0   0   0   0   0   0   0   0   0   0   0   \n"
          ]
        }
      ]
    },
    {
      "cell_type": "code",
      "source": [
        "# 데이터 변환\n",
        "X_train = X_train.reshape(X_train.shape[0],784) # 2차원 > 1차원으로 변환\n",
        "X_train = X_train.astype('float64') # normalize를 위해 실수형으로 자료타입 변경\n",
        "X_train = X_train/255 # 최대값인 255로 나누어줌 > normalize\n",
        "\n",
        "X_test = X_test.reshape(X_test.shape[0],784).astype('float64')/255 # 학습 데이터와 동일하게 적용\n",
        "print(X_train[0])"
      ],
      "metadata": {
        "colab": {
          "base_uri": "https://localhost:8080/"
        },
        "id": "oy7wJ6mz8aRQ",
        "outputId": "7bc43e26-74bd-4790-fdc1-494c5f775396"
      },
      "execution_count": 5,
      "outputs": [
        {
          "output_type": "stream",
          "name": "stdout",
          "text": [
            "[0.         0.         0.         0.         0.         0.\n",
            " 0.         0.         0.         0.         0.         0.\n",
            " 0.         0.         0.         0.         0.         0.\n",
            " 0.         0.         0.         0.         0.         0.\n",
            " 0.         0.         0.         0.         0.         0.\n",
            " 0.         0.         0.         0.         0.         0.\n",
            " 0.         0.         0.         0.         0.         0.\n",
            " 0.         0.         0.         0.         0.         0.\n",
            " 0.         0.         0.         0.         0.         0.\n",
            " 0.         0.         0.         0.         0.         0.\n",
            " 0.         0.         0.         0.         0.         0.\n",
            " 0.         0.         0.         0.         0.         0.\n",
            " 0.         0.         0.         0.         0.         0.\n",
            " 0.         0.         0.         0.         0.         0.\n",
            " 0.         0.         0.         0.         0.         0.\n",
            " 0.         0.         0.         0.         0.         0.\n",
            " 0.         0.         0.         0.         0.         0.\n",
            " 0.         0.         0.         0.         0.         0.\n",
            " 0.         0.         0.         0.         0.         0.\n",
            " 0.         0.         0.         0.         0.         0.\n",
            " 0.         0.         0.         0.         0.         0.\n",
            " 0.         0.         0.         0.         0.         0.\n",
            " 0.         0.         0.         0.         0.         0.\n",
            " 0.         0.         0.         0.         0.         0.\n",
            " 0.         0.         0.         0.         0.         0.\n",
            " 0.         0.         0.01176471 0.07058824 0.07058824 0.07058824\n",
            " 0.49411765 0.53333333 0.68627451 0.10196078 0.65098039 1.\n",
            " 0.96862745 0.49803922 0.         0.         0.         0.\n",
            " 0.         0.         0.         0.         0.         0.\n",
            " 0.         0.         0.11764706 0.14117647 0.36862745 0.60392157\n",
            " 0.66666667 0.99215686 0.99215686 0.99215686 0.99215686 0.99215686\n",
            " 0.88235294 0.6745098  0.99215686 0.94901961 0.76470588 0.25098039\n",
            " 0.         0.         0.         0.         0.         0.\n",
            " 0.         0.         0.         0.         0.         0.19215686\n",
            " 0.93333333 0.99215686 0.99215686 0.99215686 0.99215686 0.99215686\n",
            " 0.99215686 0.99215686 0.99215686 0.98431373 0.36470588 0.32156863\n",
            " 0.32156863 0.21960784 0.15294118 0.         0.         0.\n",
            " 0.         0.         0.         0.         0.         0.\n",
            " 0.         0.         0.         0.07058824 0.85882353 0.99215686\n",
            " 0.99215686 0.99215686 0.99215686 0.99215686 0.77647059 0.71372549\n",
            " 0.96862745 0.94509804 0.         0.         0.         0.\n",
            " 0.         0.         0.         0.         0.         0.\n",
            " 0.         0.         0.         0.         0.         0.\n",
            " 0.         0.         0.31372549 0.61176471 0.41960784 0.99215686\n",
            " 0.99215686 0.80392157 0.04313725 0.         0.16862745 0.60392157\n",
            " 0.         0.         0.         0.         0.         0.\n",
            " 0.         0.         0.         0.         0.         0.\n",
            " 0.         0.         0.         0.         0.         0.\n",
            " 0.         0.05490196 0.00392157 0.60392157 0.99215686 0.35294118\n",
            " 0.         0.         0.         0.         0.         0.\n",
            " 0.         0.         0.         0.         0.         0.\n",
            " 0.         0.         0.         0.         0.         0.\n",
            " 0.         0.         0.         0.         0.         0.\n",
            " 0.         0.54509804 0.99215686 0.74509804 0.00784314 0.\n",
            " 0.         0.         0.         0.         0.         0.\n",
            " 0.         0.         0.         0.         0.         0.\n",
            " 0.         0.         0.         0.         0.         0.\n",
            " 0.         0.         0.         0.         0.         0.04313725\n",
            " 0.74509804 0.99215686 0.2745098  0.         0.         0.\n",
            " 0.         0.         0.         0.         0.         0.\n",
            " 0.         0.         0.         0.         0.         0.\n",
            " 0.         0.         0.         0.         0.         0.\n",
            " 0.         0.         0.         0.         0.1372549  0.94509804\n",
            " 0.88235294 0.62745098 0.42352941 0.00392157 0.         0.\n",
            " 0.         0.         0.         0.         0.         0.\n",
            " 0.         0.         0.         0.         0.         0.\n",
            " 0.         0.         0.         0.         0.         0.\n",
            " 0.         0.         0.         0.31764706 0.94117647 0.99215686\n",
            " 0.99215686 0.46666667 0.09803922 0.         0.         0.\n",
            " 0.         0.         0.         0.         0.         0.\n",
            " 0.         0.         0.         0.         0.         0.\n",
            " 0.         0.         0.         0.         0.         0.\n",
            " 0.         0.         0.17647059 0.72941176 0.99215686 0.99215686\n",
            " 0.58823529 0.10588235 0.         0.         0.         0.\n",
            " 0.         0.         0.         0.         0.         0.\n",
            " 0.         0.         0.         0.         0.         0.\n",
            " 0.         0.         0.         0.         0.         0.\n",
            " 0.         0.0627451  0.36470588 0.98823529 0.99215686 0.73333333\n",
            " 0.         0.         0.         0.         0.         0.\n",
            " 0.         0.         0.         0.         0.         0.\n",
            " 0.         0.         0.         0.         0.         0.\n",
            " 0.         0.         0.         0.         0.         0.\n",
            " 0.         0.97647059 0.99215686 0.97647059 0.25098039 0.\n",
            " 0.         0.         0.         0.         0.         0.\n",
            " 0.         0.         0.         0.         0.         0.\n",
            " 0.         0.         0.         0.         0.         0.\n",
            " 0.         0.         0.18039216 0.50980392 0.71764706 0.99215686\n",
            " 0.99215686 0.81176471 0.00784314 0.         0.         0.\n",
            " 0.         0.         0.         0.         0.         0.\n",
            " 0.         0.         0.         0.         0.         0.\n",
            " 0.         0.         0.         0.         0.15294118 0.58039216\n",
            " 0.89803922 0.99215686 0.99215686 0.99215686 0.98039216 0.71372549\n",
            " 0.         0.         0.         0.         0.         0.\n",
            " 0.         0.         0.         0.         0.         0.\n",
            " 0.         0.         0.         0.         0.         0.\n",
            " 0.09411765 0.44705882 0.86666667 0.99215686 0.99215686 0.99215686\n",
            " 0.99215686 0.78823529 0.30588235 0.         0.         0.\n",
            " 0.         0.         0.         0.         0.         0.\n",
            " 0.         0.         0.         0.         0.         0.\n",
            " 0.         0.         0.09019608 0.25882353 0.83529412 0.99215686\n",
            " 0.99215686 0.99215686 0.99215686 0.77647059 0.31764706 0.00784314\n",
            " 0.         0.         0.         0.         0.         0.\n",
            " 0.         0.         0.         0.         0.         0.\n",
            " 0.         0.         0.         0.         0.07058824 0.67058824\n",
            " 0.85882353 0.99215686 0.99215686 0.99215686 0.99215686 0.76470588\n",
            " 0.31372549 0.03529412 0.         0.         0.         0.\n",
            " 0.         0.         0.         0.         0.         0.\n",
            " 0.         0.         0.         0.         0.         0.\n",
            " 0.21568627 0.6745098  0.88627451 0.99215686 0.99215686 0.99215686\n",
            " 0.99215686 0.95686275 0.52156863 0.04313725 0.         0.\n",
            " 0.         0.         0.         0.         0.         0.\n",
            " 0.         0.         0.         0.         0.         0.\n",
            " 0.         0.         0.         0.         0.53333333 0.99215686\n",
            " 0.99215686 0.99215686 0.83137255 0.52941176 0.51764706 0.0627451\n",
            " 0.         0.         0.         0.         0.         0.\n",
            " 0.         0.         0.         0.         0.         0.\n",
            " 0.         0.         0.         0.         0.         0.\n",
            " 0.         0.         0.         0.         0.         0.\n",
            " 0.         0.         0.         0.         0.         0.\n",
            " 0.         0.         0.         0.         0.         0.\n",
            " 0.         0.         0.         0.         0.         0.\n",
            " 0.         0.         0.         0.         0.         0.\n",
            " 0.         0.         0.         0.         0.         0.\n",
            " 0.         0.         0.         0.         0.         0.\n",
            " 0.         0.         0.         0.         0.         0.\n",
            " 0.         0.         0.         0.         0.         0.\n",
            " 0.         0.         0.         0.         0.         0.\n",
            " 0.         0.         0.         0.         0.         0.\n",
            " 0.         0.         0.         0.         0.         0.\n",
            " 0.         0.         0.         0.         0.         0.\n",
            " 0.         0.         0.         0.        ]\n"
          ]
        }
      ]
    },
    {
      "cell_type": "code",
      "source": [
        "# 클래스(어떤숫자인지) 값 확인\n",
        "print(f'class : {Y_class_train[0]}')\n",
        "\n",
        "# 클래스 데이터를 바이너리화(원핫인코딩)\n",
        "Y_train = np_utils.to_categorical(Y_class_train, 10)\n",
        "Y_test = np_utils.to_categorical(Y_class_test, 10)\n",
        "\n",
        "print(Y_train[0], Y_test[0])"
      ],
      "metadata": {
        "colab": {
          "base_uri": "https://localhost:8080/"
        },
        "id": "Wr1ljEBJ8o8V",
        "outputId": "ca588bf6-b652-4391-b934-2766d2be976a"
      },
      "execution_count": 6,
      "outputs": [
        {
          "output_type": "stream",
          "name": "stdout",
          "text": [
            "class : 5\n",
            "[0. 0. 0. 0. 0. 1. 0. 0. 0. 0.] [0. 0. 0. 0. 0. 0. 0. 1. 0. 0.]\n"
          ]
        }
      ]
    },
    {
      "cell_type": "markdown",
      "source": [
        "# 2.간단한 모델로 수행"
      ],
      "metadata": {
        "id": "_1LppZYw83cX"
      }
    },
    {
      "cell_type": "code",
      "source": [
        "# 시드값 고정 및 데이터 변환 (위와 동일한 과정)\n",
        "seed = 42\n",
        "np.random.seed(seed)\n",
        "tf.random.set_seed(seed)\n",
        "\n",
        "(X_train, Y_train), (X_test, Y_test) = mnist.load_data()\n",
        "\n",
        "X_train = X_train.reshape(X_train.shape[0], 784).astype('float32') / 255\n",
        "X_test = X_test.reshape(X_test.shape[0], 784).astype('float32') / 255\n",
        "\n",
        "Y_train = np_utils.to_categorical(Y_train, 10)\n",
        "Y_test = np_utils.to_categorical(Y_test, 10)\n",
        "\n",
        "# 모델 구성\n",
        "model = Sequential()\n",
        "model.add(Dense(512, input_dim=784, activation='relu')) # 입력데이터의 차원 = 784, 노드 수 = 512, 활성화함수 렐루\n",
        "model.add(Dense(10, activation='softmax')) # 출력은 0~9까지의 숫자 중 하나이므로 10개\n",
        "\n",
        "# 실행환경 설정\n",
        "model.compile(loss='categorical_crossentropy', optimizer='adam', metrics=['accuracy']) # 오차함수=범주형 교차엔트로피, 최적화함수=adam, 지표=정확도\n",
        "\n",
        "# 모델 저장 디렉토리 설정\n",
        "Model_dir = './model/' # 저장할 경로\n",
        "if not os.path.exists(Model_dir): # 해당 경로가 없으면 생성\n",
        "    os.mkdir(Model_dir)\n",
        "    \n",
        "modelpath = './model/MNIST_{epoch:02d}_{val_loss:.4f}.hdf5' # 저장할 경로 및 파일명 지정\n",
        "\n",
        "# 콜백함수 지정\n",
        "checkpointer = ModelCheckpoint(filepath=modelpath, monitor='val_loss',verbose=1,save_best_only=True) # 성능이 개선될떄만 저장하도록\n",
        "earlystopping = EarlyStopping(monitor='val_loss', patience=10) # 10번동안 성능개선이 없으면 학습 조기종료\n",
        "\n",
        "# 모델 실행\n",
        "history = model.fit(X_train, Y_train, # 학습용 데이터 \n",
        "                    validation_data=(X_test,Y_test), # 검증용 데이터\n",
        "                    epochs=30, # 반복횟수\n",
        "                    batch_size=200, # 한번에 사용할 샘플 개수\n",
        "                    verbose=0, # 진행상황 미출력\n",
        "                    callbacks=[checkpointer,earlystopping]) # 콜백함수"
      ],
      "metadata": {
        "colab": {
          "base_uri": "https://localhost:8080/"
        },
        "id": "gXOdAu9481em",
        "outputId": "f5c41b65-a3fc-465f-fabe-dd67450dfc70"
      },
      "execution_count": 7,
      "outputs": [
        {
          "output_type": "stream",
          "name": "stdout",
          "text": [
            "\n",
            "Epoch 1: val_loss improved from inf to 0.15254, saving model to ./model/MNIST_01_0.1525.hdf5\n",
            "\n",
            "Epoch 2: val_loss improved from 0.15254 to 0.10243, saving model to ./model/MNIST_02_0.1024.hdf5\n",
            "\n",
            "Epoch 3: val_loss improved from 0.10243 to 0.08273, saving model to ./model/MNIST_03_0.0827.hdf5\n",
            "\n",
            "Epoch 4: val_loss improved from 0.08273 to 0.07048, saving model to ./model/MNIST_04_0.0705.hdf5\n",
            "\n",
            "Epoch 5: val_loss improved from 0.07048 to 0.06979, saving model to ./model/MNIST_05_0.0698.hdf5\n",
            "\n",
            "Epoch 6: val_loss improved from 0.06979 to 0.06492, saving model to ./model/MNIST_06_0.0649.hdf5\n",
            "\n",
            "Epoch 7: val_loss improved from 0.06492 to 0.05843, saving model to ./model/MNIST_07_0.0584.hdf5\n",
            "\n",
            "Epoch 8: val_loss did not improve from 0.05843\n",
            "\n",
            "Epoch 9: val_loss did not improve from 0.05843\n",
            "\n",
            "Epoch 10: val_loss did not improve from 0.05843\n",
            "\n",
            "Epoch 11: val_loss did not improve from 0.05843\n",
            "\n",
            "Epoch 12: val_loss did not improve from 0.05843\n",
            "\n",
            "Epoch 13: val_loss improved from 0.05843 to 0.05625, saving model to ./model/MNIST_13_0.0563.hdf5\n",
            "\n",
            "Epoch 14: val_loss did not improve from 0.05625\n",
            "\n",
            "Epoch 15: val_loss did not improve from 0.05625\n",
            "\n",
            "Epoch 16: val_loss did not improve from 0.05625\n",
            "\n",
            "Epoch 17: val_loss did not improve from 0.05625\n",
            "\n",
            "Epoch 18: val_loss did not improve from 0.05625\n",
            "\n",
            "Epoch 19: val_loss did not improve from 0.05625\n",
            "\n",
            "Epoch 20: val_loss did not improve from 0.05625\n",
            "\n",
            "Epoch 21: val_loss did not improve from 0.05625\n",
            "\n",
            "Epoch 22: val_loss did not improve from 0.05625\n",
            "\n",
            "Epoch 23: val_loss did not improve from 0.05625\n"
          ]
        }
      ]
    },
    {
      "cell_type": "code",
      "source": [
        "# 결과 출력\n",
        "print(f'Test Accuracy : {model.evaluate(X_test,Y_test)[1]:.4f}')\n",
        "\n",
        "# 오차를 그래프로 시각화\n",
        "y_vloss = history.history['val_loss'] # 테스트셋에 대한 검증 오차\n",
        "y_loss = history.history['loss'] # 학습셋에 대한 오차\n",
        "\n",
        "x_len = np.arange(len(y_loss)) # x축으로 사용할 데이터\n",
        "plt.plot(x_len, y_vloss, marker = '.', c='r', label='Testset_loss')\n",
        "plt.plot(x_len, y_loss, marker = '.', c='b', label='Trainset_loss')\n",
        "plt.legend(loc=0) # 범례 표시\n",
        "plt.grid() # 격자표시\n",
        "plt.xlabel('epoch')\n",
        "plt.ylabel('loss')\n",
        "plt.show()\n",
        "# 조기종료를 통해 오차가 다시 증가하는(과적합되는) 구간이 없음"
      ],
      "metadata": {
        "colab": {
          "base_uri": "https://localhost:8080/",
          "height": 316
        },
        "id": "2IQl87VM9L6J",
        "outputId": "724a7b72-572a-4a63-be9b-8a52208f1220"
      },
      "execution_count": 8,
      "outputs": [
        {
          "output_type": "stream",
          "name": "stdout",
          "text": [
            "313/313 [==============================] - 2s 7ms/step - loss: 0.0660 - accuracy: 0.9838\n",
            "Test Accuracy : 0.9838\n"
          ]
        },
        {
          "output_type": "display_data",
          "data": {
            "text/plain": [
              "<Figure size 432x288 with 1 Axes>"
            ],
            "image/png": "[encoded data removed]"
          },
          "metadata": {
            "needs_background": "light"
          }
        }
      ]
    },
    {
      "cell_type": "markdown",
      "source": [
        "# 3.CNN 활용"
      ],
      "metadata": {
        "id": "OZTjUTQX9Wa_"
      }
    },
    {
      "cell_type": "code",
      "source": [
        "# 시드값 고정 및 데이터 변환 (위와 동일한 과정)\n",
        "seed = 42\n",
        "np.random.seed(seed)\n",
        "tf.random.set_seed(seed)\n",
        "\n",
        "(X_train, Y_train), (X_test, Y_test) = mnist.load_data()\n",
        "\n",
        "X_train = X_train.reshape(X_train.shape[0], 28,28,1).astype('float32') / 255\n",
        "X_test = X_test.reshape(X_test.shape[0], 28,28,1).astype('float32') / 255\n",
        "\n",
        "Y_train = np_utils.to_categorical(Y_train, 10)\n",
        "Y_test = np_utils.to_categorical(Y_test, 10)\n",
        "\n",
        "# 모델 구성\n",
        "model = Sequential()\n",
        "model.add(Conv2D(32, # 필터 개수 \n",
        "                 kernel_size=(3,3), # 필터 사이즈\n",
        "                 input_shape=(28,28,1), # 입력데이터 형태\n",
        "                 activation='relu')) # 활성화 함수\n",
        "model.add(Conv2D(64, (3,3), activation='relu'))\n",
        "model.add(MaxPooling2D(pool_size=2)) # 2*2사이즈로 맥스풀링\n",
        "model.add(Dropout(0.25)) # 전체 노드 중에서 드랍할 비율\n",
        "model.add(Flatten()) # 1차원으로 변경\n",
        "model.add(Dense(128, activation='relu'))\n",
        "model.add(Dense(10, activation='softmax'))\n",
        "\n",
        "model.compile(loss='categorical_crossentropy', optimizer='adam', metrics=['accuracy'])"
      ],
      "metadata": {
        "id": "wPysIYid9SwH"
      },
      "execution_count": 10,
      "outputs": []
    },
    {
      "cell_type": "code",
      "source": [
        "# 모델 최적화 설정(이전과 동일)\n",
        "MODEL_DIR = './model/'\n",
        "if not os.path.exists(MODEL_DIR):\n",
        "    os.mkdir(MODEL_DIR)\n",
        "\n",
        "modelpath=\"./model/MNIST_CNN_{epoch:02d}-{val_loss:.4f}.hdf5\"\n",
        "checkpointer = ModelCheckpoint(filepath=modelpath, monitor='val_loss', verbose=1, save_best_only=True)\n",
        "early_stopping_callback = EarlyStopping(monitor='val_loss', patience=10)\n",
        "\n",
        "# 모델 실행\n",
        "history = model.fit(X_train, Y_train, validation_data=(X_test, Y_test), epochs=30, batch_size=200, verbose=0, callbacks=[early_stopping_callback,checkpointer])\n",
        "\n",
        "# 결과 출력\n",
        "print(f'Test Accuracy : {model.evaluate(X_test,Y_test)[1]:.4f}')"
      ],
      "metadata": {
        "id": "VaHgzeZ_-1tr"
      },
      "execution_count": null,
      "outputs": []
    },
    {
      "cell_type": "code",
      "source": [
        "# 오차를 그래프로 시각화\n",
        "y_vloss = history.history['val_loss'] # 테스트셋에 대한 검증 오차\n",
        "y_loss = history.history['loss'] # 학습셋에 대한 오차\n",
        "\n",
        "x_len = np.arange(len(y_loss)) # x축으로 사용할 데이터\n",
        "plt.plot(x_len, y_vloss, marker = '.', c='r', label='Testset_loss')\n",
        "plt.plot(x_len, y_loss, marker = '.', c='b', label='Trainset_loss')\n",
        "plt.legend(loc=0) # 범례 표시\n",
        "plt.grid() # 격자표시\n",
        "plt.xlabel('epoch')\n",
        "plt.ylabel('loss')\n",
        "plt.show()"
      ],
      "metadata": {
        "id": "jdKXUX6v9cR8"
      },
      "execution_count": null,
      "outputs": []
    }
  ]
}